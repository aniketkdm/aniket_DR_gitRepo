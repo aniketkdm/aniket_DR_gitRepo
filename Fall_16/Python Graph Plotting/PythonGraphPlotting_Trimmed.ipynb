{
 "cells": [
  {
   "cell_type": "markdown",
   "metadata": {},
   "source": [
    "# Reading Data from File and Filling the mydata as adjacency matrix"
   ]
  },
  {
   "cell_type": "code",
   "execution_count": 30,
   "metadata": {
    "collapsed": false
   },
   "outputs": [
    {
     "name": "stdout",
     "output_type": "stream",
     "text": [
      "[[ nan   0.   1. ...,  39.  40.  41.]\n",
      " [  0.   0.   1. ...,   3.   4.   0.]\n",
      " [  1.   9.   0. ...,   0.   0.   0.]\n",
      " ..., \n",
      " [ 39.   0.   0. ...,   0.   0.   0.]\n",
      " [ 40.   1.   0. ...,   0.   0.   0.]\n",
      " [ 41.   1.   0. ...,   0.   0.   0.]]\n",
      "<type 'numpy.ndarray'>\n"
     ]
    }
   ],
   "source": [
    "from numpy import genfromtxt\n",
    "import numpy as np\n",
    "mydata = genfromtxt('JavaPathsQuantified.csv', delimiter=',')\n",
    "print mydata\n",
    "print type(mydata)"
   ]
  },
  {
   "cell_type": "code",
   "execution_count": 31,
   "metadata": {
    "collapsed": false
   },
   "outputs": [
    {
     "name": "stdout",
     "output_type": "stream",
     "text": [
      "[[  0.   1.  63. ...,   3.   4.   0.]\n",
      " [  9.   0.   1. ...,   0.   0.   0.]\n",
      " [ 56.   1.   0. ...,   0.   0.   0.]\n",
      " ..., \n",
      " [  0.   0.   0. ...,   0.   0.   0.]\n",
      " [  1.   0.   0. ...,   0.   0.   0.]\n",
      " [  1.   0.   0. ...,   0.   0.   0.]]\n"
     ]
    }
   ],
   "source": [
    "adjacency = mydata[1:,1:]\n",
    "print adjacency"
   ]
  },
  {
   "cell_type": "markdown",
   "metadata": {},
   "source": [
    "# Plot using NetworkX"
   ]
  },
  {
   "cell_type": "code",
   "execution_count": 40,
   "metadata": {
    "collapsed": true
   },
   "outputs": [],
   "source": [
    "def show_graph_with_labels(adjacency_matrix, mylabels):\n",
    "    import matplotlib.pyplot as plt\n",
    "    import networkx as nx\n",
    "    rows, cols = np.where(adjacency_matrix > 10)\n",
    "    \n",
    "    ################ Marked is actually unwanted ##################\n",
    "    \n",
    "    l = {}\n",
    "    \n",
    "    row_un = np.unique(rows, return_index=False, return_inverse=False, return_counts=False)\n",
    "    col_un = np.unique(cols, return_index=False, return_inverse=False, return_counts=False)\n",
    "    \n",
    "    if row_un.size > col_un.size:\n",
    "        for i, label in enumerate(row_un):\n",
    "            l[i] = label\n",
    "    else:\n",
    "        for i, label in enumerate(col_un):\n",
    "            l[i] = label\n",
    "    \n",
    "    print(l)\n",
    "    \n",
    "    ################ Marked is actually unwanted ##################\n",
    "    \n",
    "    #print(rows, cols)\n",
    "    edgeLabels = adjacency_matrix[adjacency_matrix > 10]\n",
    "    print(edgeLabels)\n",
    "    edges = zip(rows.tolist(), cols.tolist())\n",
    "    print(edges)\n",
    "    gr = nx.Graph()\n",
    "    gr.add_edges_from(edges)\n",
    "    edge_labels = dict(zip(edges, edgeLabels))\n",
    "    print(edge_labels)\n",
    "    #gr.edge_labels=edgeLabels\n",
    "    #nx.draw_circular(gr, node_size=500, labels=mylabels, with_labels=True)\n",
    "    nx.draw_circular(gr, node_size=500, with_labels=True)\n",
    "    nx.draw_networkx_edge_labels(gr, nx.circular_layout(gr),edge_labels=edge_labels,label_pos=0.3)\n",
    "    plt.show()"
   ]
  },
  {
   "cell_type": "markdown",
   "metadata": {},
   "source": [
    "# Running the code"
   ]
  },
  {
   "cell_type": "code",
   "execution_count": 41,
   "metadata": {
    "collapsed": false
   },
   "outputs": [
    {
     "name": "stdout",
     "output_type": "stream",
     "text": [
      "{0: 0, 1: 2, 2: 3, 3: 6, 4: 8, 5: 9, 6: 14, 7: 17, 8: 18, 9: 19}\n",
      "[ 63.  48.  16.  14.  11.  11.  16.  18.  14.  56.  11.  42.  11.  12.  21.\n",
      "  14.  31.  19.  14.]\n",
      "[(0, 2), (0, 3), (0, 6), (0, 8), (0, 9), (0, 14), (0, 17), (0, 18), (0, 19), (2, 0), (2, 3), (3, 0), (3, 2), (6, 0), (8, 0), (9, 0), (17, 0), (18, 0), (19, 0)]\n",
      "{(17, 0): 31.0, (3, 2): 11.0, (9, 0): 14.0, (19, 0): 14.0, (18, 0): 19.0, (2, 0): 56.0, (3, 0): 42.0, (0, 14): 11.0, (0, 19): 14.0, (8, 0): 21.0, (0, 18): 18.0, (6, 0): 12.0, (0, 17): 16.0, (0, 6): 16.0, (2, 3): 11.0, (0, 9): 11.0, (0, 3): 48.0, (0, 8): 14.0, (0, 2): 63.0}\n"
     ]
    }
   ],
   "source": [
    "show_graph_with_labels(adjacency, make_label_dict(get_labels('JavaPathsQuantified.csv')))"
   ]
  },
  {
   "cell_type": "code",
   "execution_count": 109,
   "metadata": {
    "collapsed": false
   },
   "outputs": [
    {
     "name": "stdout",
     "output_type": "stream",
     "text": [
      "Requirement already satisfied: networkx in c:\\python27\\lib\\site-packages\n",
      "Requirement already satisfied: decorator>=3.4.0 in c:\\python27\\lib\\site-packages (from networkx)\n"
     ]
    }
   ],
   "source": [
    "!pip install networkx"
   ]
  },
  {
   "cell_type": "code",
   "execution_count": null,
   "metadata": {
    "collapsed": false
   },
   "outputs": [],
   "source": []
  },
  {
   "cell_type": "code",
   "execution_count": null,
   "metadata": {
    "collapsed": true
   },
   "outputs": [],
   "source": []
  }
 ],
 "metadata": {
  "kernelspec": {
   "display_name": "Python 2",
   "language": "python",
   "name": "python2"
  },
  "language_info": {
   "codemirror_mode": {
    "name": "ipython",
    "version": 2
   },
   "file_extension": ".py",
   "mimetype": "text/x-python",
   "name": "python",
   "nbconvert_exporter": "python",
   "pygments_lexer": "ipython2",
   "version": "2.7.11"
  }
 },
 "nbformat": 4,
 "nbformat_minor": 0
}
