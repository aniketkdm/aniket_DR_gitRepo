{
 "cells": [
  {
   "cell_type": "markdown",
   "metadata": {},
   "source": [
    "# Reading Data from File and Filling the mydata as adjacency matrix"
   ]
  },
  {
   "cell_type": "code",
   "execution_count": 10,
   "metadata": {
    "collapsed": false
   },
   "outputs": [
    {
     "name": "stdout",
     "output_type": "stream",
     "text": [
      "[[ nan   0.   1. ...,  39.  40.  41.]\n",
      " [  0.   0.   1. ...,   3.   4.   0.]\n",
      " [  1.   9.   0. ...,   0.   0.   0.]\n",
      " ..., \n",
      " [ 39.   0.   0. ...,   0.   0.   0.]\n",
      " [ 40.   1.   0. ...,   0.   0.   0.]\n",
      " [ 41.   1.   0. ...,   0.   0.   0.]]\n",
      "<type 'numpy.ndarray'>\n"
     ]
    }
   ],
   "source": [
    "from numpy import genfromtxt\n",
    "import numpy as np\n",
    "mydata = genfromtxt('JavaPathsQuantified.csv', delimiter=',')\n",
    "print mydata\n",
    "print type(mydata)"
   ]
  },
  {
   "cell_type": "code",
   "execution_count": 11,
   "metadata": {
    "collapsed": false
   },
   "outputs": [
    {
     "name": "stdout",
     "output_type": "stream",
     "text": [
      "[[  0.   1.  63. ...,   3.   4.   0.]\n",
      " [  9.   0.   1. ...,   0.   0.   0.]\n",
      " [ 56.   1.   0. ...,   0.   0.   0.]\n",
      " ..., \n",
      " [  0.   0.   0. ...,   0.   0.   0.]\n",
      " [  1.   0.   0. ...,   0.   0.   0.]\n",
      " [  1.   0.   0. ...,   0.   0.   0.]]\n"
     ]
    }
   ],
   "source": [
    "adjacency = mydata[1:,1:]\n",
    "print adjacency"
   ]
  },
  {
   "cell_type": "markdown",
   "metadata": {},
   "source": [
    "# Plot using NetworkX"
   ]
  },
  {
   "cell_type": "code",
   "execution_count": 12,
   "metadata": {
    "collapsed": true
   },
   "outputs": [],
   "source": [
    "def show_graph_with_labels(adjacency_matrix):\n",
    "    import matplotlib.pyplot as plt\n",
    "    import networkx as nx\n",
    "    rows, cols = np.where(adjacency_matrix >= 3)\n",
    "    \n",
    "    ################ Marked is actually unwanted ##################\n",
    "    \n",
    "    l = {}\n",
    "    \n",
    "    row_un = np.unique(rows, return_index=False, return_inverse=False, return_counts=False)\n",
    "    col_un = np.unique(cols, return_index=False, return_inverse=False, return_counts=False)\n",
    "    \n",
    "    if row_un.size > col_un.size:\n",
    "        for i, label in enumerate(row_un):\n",
    "            l[i] = label\n",
    "    else:\n",
    "        for i, label in enumerate(col_un):\n",
    "            l[i] = label\n",
    "    \n",
    "    print(l)\n",
    "    \n",
    "    ################ Marked is actually unwanted ##################\n",
    "    \n",
    "    #print(rows, cols)\n",
    "    edgeLabels = adjacency_matrix[adjacency_matrix >= 3]\n",
    "    print(edgeLabels)\n",
    "    edges = zip(rows.tolist(), cols.tolist())\n",
    "    print(edges)\n",
    "    gr = nx.Graph()\n",
    "    gr.add_edges_from(edges)\n",
    "    edge_labels = dict(zip(edges, edgeLabels))\n",
    "    print(edge_labels)\n",
    "    #gr.edge_labels=edgeLabels\n",
    "    #nx.draw_circular(gr, node_size=500, labels=mylabels, with_labels=True)\n",
    "    nx.draw_circular(gr, node_size=500, with_labels=True)\n",
    "    nx.draw_networkx_edge_labels(gr, nx.circular_layout(gr),edge_labels=edge_labels,label_pos=0.3)\n",
    "    plt.show()"
   ]
  },
  {
   "cell_type": "markdown",
   "metadata": {},
   "source": [
    "# Running the code"
   ]
  },
  {
   "cell_type": "code",
   "execution_count": 13,
   "metadata": {
    "collapsed": false
   },
   "outputs": [
    {
     "name": "stdout",
     "output_type": "stream",
     "text": [
      "{0: 0, 1: 1, 2: 2, 3: 3, 4: 4, 5: 5, 6: 6, 7: 7, 8: 8, 9: 9, 10: 10, 11: 12, 12: 13, 13: 14, 14: 15, 15: 17, 16: 18, 17: 19, 18: 20, 19: 24, 20: 25, 21: 26, 22: 27, 23: 30, 24: 31, 25: 32, 26: 39, 27: 40}\n",
      "[ 63.  48.   4.   7.  16.   3.  14.  11.   7.   3.  11.   8.  16.  18.  14.\n",
      "   3.   4.   3.   3.   8.   4.   4.   3.   3.   4.   9.  56.  11.   3.   6.\n",
      "   4.  42.  11.   3.   4.   4.   3.   4.   4.   5.   8.  12.   7.  21.   5.\n",
      "   3.   4.   3.  14.  10.   4.   4.   3.   3.   4.  10.   4.   3.   3.   7.\n",
      "  31.   3.   5.  19.   5.   4.  14.   5.   4.   3.   3.   4.   3.   4.   3.\n",
      "   3.]\n",
      "[(0, 2), (0, 3), (0, 4), (0, 5), (0, 6), (0, 7), (0, 8), (0, 9), (0, 10), (0, 12), (0, 14), (0, 15), (0, 17), (0, 18), (0, 19), (0, 20), (0, 24), (0, 25), (0, 26), (0, 27), (0, 30), (0, 31), (0, 32), (0, 39), (0, 40), (1, 0), (2, 0), (2, 3), (2, 13), (2, 14), (2, 17), (3, 0), (3, 2), (3, 4), (3, 8), (3, 10), (3, 17), (3, 18), (3, 19), (4, 0), (5, 0), (6, 0), (7, 0), (8, 0), (8, 3), (8, 6), (8, 14), (8, 17), (9, 0), (10, 0), (10, 2), (10, 3), (11, 0), (11, 3), (13, 0), (14, 0), (14, 1), (14, 2), (14, 8), (15, 0), (17, 0), (17, 2), (17, 3), (18, 0), (18, 2), (18, 8), (19, 0), (19, 10), (24, 0), (24, 2), (26, 8), (27, 0), (30, 0), (33, 0), (36, 0), (38, 0)]\n",
      "{(17, 0): 31.0, (0, 27): 8.0, (15, 0): 7.0, (0, 20): 3.0, (3, 0): 42.0, (0, 14): 11.0, (8, 0): 21.0, (0, 7): 3.0, (38, 0): 3.0, (17, 3): 5.0, (24, 0): 4.0, (0, 10): 7.0, (17, 2): 3.0, (19, 0): 14.0, (18, 8): 4.0, (0, 3): 48.0, (3, 17): 3.0, (10, 3): 4.0, (4, 0): 5.0, (8, 14): 4.0, (9, 0): 14.0, (0, 32): 3.0, (30, 0): 3.0, (0, 15): 8.0, (2, 0): 56.0, (3, 10): 4.0, (0, 24): 4.0, (2, 14): 6.0, (14, 1): 4.0, (6, 0): 12.0, (0, 17): 16.0, (26, 8): 3.0, (2, 13): 3.0, (5, 0): 8.0, (0, 4): 4.0, (8, 6): 3.0, (19, 10): 5.0, (0, 40): 4.0, (36, 0): 3.0, (3, 2): 11.0, (14, 2): 3.0, (24, 2): 3.0, (18, 2): 5.0, (0, 25): 3.0, (0, 18): 18.0, (0, 12): 3.0, (11, 0): 3.0, (0, 5): 7.0, (3, 19): 4.0, (10, 0): 10.0, (8, 17): 3.0, (0, 30): 4.0, (1, 0): 9.0, (0, 8): 14.0, (2, 17): 4.0, (27, 0): 4.0, (8, 3): 5.0, (7, 0): 7.0, (0, 26): 3.0, (18, 0): 19.0, (0, 19): 14.0, (11, 3): 3.0, (0, 39): 3.0, (14, 8): 3.0, (3, 8): 4.0, (0, 6): 16.0, (3, 18): 4.0, (14, 0): 10.0, (0, 31): 4.0, (0, 9): 11.0, (2, 3): 11.0, (33, 0): 4.0, (3, 4): 3.0, (0, 2): 63.0, (13, 0): 4.0, (10, 2): 4.0}\n"
     ]
    }
   ],
   "source": [
    "show_graph_with_labels(adjacency)"
   ]
  },
  {
   "cell_type": "code",
   "execution_count": 14,
   "metadata": {
    "collapsed": false
   },
   "outputs": [
    {
     "name": "stdout",
     "output_type": "stream",
     "text": [
      "Requirement already satisfied: networkx in c:\\python27\\lib\\site-packages\n",
      "Requirement already satisfied: decorator>=3.4.0 in c:\\python27\\lib\\site-packages (from networkx)\n"
     ]
    }
   ],
   "source": [
    "!pip install networkx"
   ]
  },
  {
   "cell_type": "code",
   "execution_count": null,
   "metadata": {
    "collapsed": false
   },
   "outputs": [],
   "source": []
  },
  {
   "cell_type": "code",
   "execution_count": null,
   "metadata": {
    "collapsed": true
   },
   "outputs": [],
   "source": []
  }
 ],
 "metadata": {
  "kernelspec": {
   "display_name": "Python 2",
   "language": "python",
   "name": "python2"
  },
  "language_info": {
   "codemirror_mode": {
    "name": "ipython",
    "version": 2
   },
   "file_extension": ".py",
   "mimetype": "text/x-python",
   "name": "python",
   "nbconvert_exporter": "python",
   "pygments_lexer": "ipython2",
   "version": "2.7.11"
  }
 },
 "nbformat": 4,
 "nbformat_minor": 0
}
